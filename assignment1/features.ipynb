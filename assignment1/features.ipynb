{
 "cells": [
  {
   "cell_type": "markdown",
   "metadata": {
    "tags": [
     "pdf-title"
    ]
   },
   "source": [
    "# Image features exercise\n",
    "*Complete and hand in this completed worksheet (including its outputs and any supporting code outside of the worksheet) with your assignment submission. For more details see the [assignments page](http://vision.stanford.edu/teaching/cs231n/assignments.html) on the course website.*\n",
    "\n",
    "We have seen that we can achieve reasonable performance on an image classification task by training a linear classifier on the pixels of the input image. In this exercise we will show that we can improve our classification performance by training linear classifiers not on raw pixels but on features that are computed from the raw pixels.\n",
    "\n",
    "All of your work for this exercise will be done in this notebook."
   ]
  },
  {
   "cell_type": "code",
   "execution_count": 1,
   "metadata": {
    "tags": [
     "pdf-ignore"
    ]
   },
   "outputs": [],
   "source": [
    "import random\n",
    "import numpy as np\n",
    "from cs231n.data_utils import load_CIFAR10\n",
    "import matplotlib.pyplot as plt\n",
    "\n",
    "\n",
    "%matplotlib inline\n",
    "plt.rcParams['figure.figsize'] = (10.0, 8.0) # set default size of plots\n",
    "plt.rcParams['image.interpolation'] = 'nearest'\n",
    "plt.rcParams['image.cmap'] = 'gray'\n",
    "\n",
    "# for auto-reloading extenrnal modules\n",
    "# see http://stackoverflow.com/questions/1907993/autoreload-of-modules-in-ipython\n",
    "%load_ext autoreload\n",
    "%autoreload 2"
   ]
  },
  {
   "cell_type": "markdown",
   "metadata": {
    "tags": [
     "pdf-ignore"
    ]
   },
   "source": [
    "## Load data\n",
    "Similar to previous exercises, we will load CIFAR-10 data from disk."
   ]
  },
  {
   "cell_type": "code",
   "execution_count": 2,
   "metadata": {
    "tags": [
     "pdf-ignore"
    ]
   },
   "outputs": [],
   "source": [
    "from cs231n.features import color_histogram_hsv, hog_feature\n",
    "\n",
    "def get_CIFAR10_data(num_training=49000, num_validation=1000, num_test=1000):\n",
    "    # Load the raw CIFAR-10 data\n",
    "    cifar10_dir = 'cs231n/datasets/cifar-10-batches-py'\n",
    "\n",
    "    # Cleaning up variables to prevent loading data multiple times (which may cause memory issue)\n",
    "    try:\n",
    "       del X_train, y_train\n",
    "       del X_test, y_test\n",
    "       print('Clear previously loaded data.')\n",
    "    except:\n",
    "       pass\n",
    "\n",
    "    X_train, y_train, X_test, y_test = load_CIFAR10(cifar10_dir)\n",
    "    \n",
    "    # Subsample the data\n",
    "    mask = list(range(num_training, num_training + num_validation))\n",
    "    X_val = X_train[mask]\n",
    "    y_val = y_train[mask]\n",
    "    mask = list(range(num_training))\n",
    "    X_train = X_train[mask]\n",
    "    y_train = y_train[mask]\n",
    "    mask = list(range(num_test))\n",
    "    X_test = X_test[mask]\n",
    "    y_test = y_test[mask]\n",
    "    \n",
    "    return X_train, y_train, X_val, y_val, X_test, y_test\n",
    "\n",
    "X_train, y_train, X_val, y_val, X_test, y_test = get_CIFAR10_data()"
   ]
  },
  {
   "cell_type": "markdown",
   "metadata": {
    "tags": [
     "pdf-ignore"
    ]
   },
   "source": [
    "## Extract Features\n",
    "For each image we will compute a Histogram of Oriented\n",
    "Gradients (HOG) as well as a color histogram using the hue channel in HSV\n",
    "color space. We form our final feature vector for each image by concatenating\n",
    "the HOG and color histogram feature vectors.\n",
    "\n",
    "Roughly speaking, HOG should capture the texture of the image while ignoring\n",
    "color information, and the color histogram represents the color of the input\n",
    "image while ignoring texture. As a result, we expect that using both together\n",
    "ought to work better than using either alone. Verifying this assumption would\n",
    "be a good thing to try for your own interest.\n",
    "\n",
    "The `hog_feature` and `color_histogram_hsv` functions both operate on a single\n",
    "image and return a feature vector for that image. The extract_features\n",
    "function takes a set of images and a list of feature functions and evaluates\n",
    "each feature function on each image, storing the results in a matrix where\n",
    "each column is the concatenation of all feature vectors for a single image."
   ]
  },
  {
   "cell_type": "code",
   "execution_count": 3,
   "metadata": {
    "scrolled": true,
    "tags": [
     "pdf-ignore"
    ]
   },
   "outputs": [
    {
     "name": "stdout",
     "output_type": "stream",
     "text": [
      "Done extracting features for 1000 / 49000 images\n",
      "Done extracting features for 2000 / 49000 images\n",
      "Done extracting features for 3000 / 49000 images\n",
      "Done extracting features for 4000 / 49000 images\n",
      "Done extracting features for 5000 / 49000 images\n",
      "Done extracting features for 6000 / 49000 images\n",
      "Done extracting features for 7000 / 49000 images\n",
      "Done extracting features for 8000 / 49000 images\n",
      "Done extracting features for 9000 / 49000 images\n",
      "Done extracting features for 10000 / 49000 images\n",
      "Done extracting features for 11000 / 49000 images\n",
      "Done extracting features for 12000 / 49000 images\n",
      "Done extracting features for 13000 / 49000 images\n",
      "Done extracting features for 14000 / 49000 images\n",
      "Done extracting features for 15000 / 49000 images\n",
      "Done extracting features for 16000 / 49000 images\n",
      "Done extracting features for 17000 / 49000 images\n",
      "Done extracting features for 18000 / 49000 images\n",
      "Done extracting features for 19000 / 49000 images\n",
      "Done extracting features for 20000 / 49000 images\n",
      "Done extracting features for 21000 / 49000 images\n",
      "Done extracting features for 22000 / 49000 images\n",
      "Done extracting features for 23000 / 49000 images\n",
      "Done extracting features for 24000 / 49000 images\n",
      "Done extracting features for 25000 / 49000 images\n",
      "Done extracting features for 26000 / 49000 images\n",
      "Done extracting features for 27000 / 49000 images\n",
      "Done extracting features for 28000 / 49000 images\n",
      "Done extracting features for 29000 / 49000 images\n",
      "Done extracting features for 30000 / 49000 images\n",
      "Done extracting features for 31000 / 49000 images\n",
      "Done extracting features for 32000 / 49000 images\n",
      "Done extracting features for 33000 / 49000 images\n",
      "Done extracting features for 34000 / 49000 images\n",
      "Done extracting features for 35000 / 49000 images\n",
      "Done extracting features for 36000 / 49000 images\n",
      "Done extracting features for 37000 / 49000 images\n",
      "Done extracting features for 38000 / 49000 images\n",
      "Done extracting features for 39000 / 49000 images\n",
      "Done extracting features for 40000 / 49000 images\n",
      "Done extracting features for 41000 / 49000 images\n",
      "Done extracting features for 42000 / 49000 images\n",
      "Done extracting features for 43000 / 49000 images\n",
      "Done extracting features for 44000 / 49000 images\n",
      "Done extracting features for 45000 / 49000 images\n",
      "Done extracting features for 46000 / 49000 images\n",
      "Done extracting features for 47000 / 49000 images\n",
      "Done extracting features for 48000 / 49000 images\n",
      "Done extracting features for 49000 / 49000 images\n"
     ]
    }
   ],
   "source": [
    "from cs231n.features import *\n",
    "\n",
    "num_color_bins = 10 # Number of bins in the color histogram\n",
    "feature_fns = [hog_feature, lambda img: color_histogram_hsv(img, nbin=num_color_bins)]\n",
    "X_train_feats = extract_features(X_train, feature_fns, verbose=True)\n",
    "X_val_feats = extract_features(X_val, feature_fns)\n",
    "X_test_feats = extract_features(X_test, feature_fns)\n",
    "\n",
    "# Preprocessing: Subtract the mean feature\n",
    "mean_feat = np.mean(X_train_feats, axis=0, keepdims=True)\n",
    "X_train_feats -= mean_feat\n",
    "X_val_feats -= mean_feat\n",
    "X_test_feats -= mean_feat\n",
    "\n",
    "# Preprocessing: Divide by standard deviation. This ensures that each feature\n",
    "# has roughly the same scale.\n",
    "std_feat = np.std(X_train_feats, axis=0, keepdims=True)\n",
    "X_train_feats /= std_feat\n",
    "X_val_feats /= std_feat\n",
    "X_test_feats /= std_feat\n",
    "\n",
    "# Preprocessing: Add a bias dimension\n",
    "X_train_feats = np.hstack([X_train_feats, np.ones((X_train_feats.shape[0], 1))])\n",
    "X_val_feats = np.hstack([X_val_feats, np.ones((X_val_feats.shape[0], 1))])\n",
    "X_test_feats = np.hstack([X_test_feats, np.ones((X_test_feats.shape[0], 1))])"
   ]
  },
  {
   "cell_type": "markdown",
   "metadata": {},
   "source": [
    "## Train SVM on features\n",
    "Using the multiclass SVM code developed earlier in the assignment, train SVMs on top of the features extracted above; this should achieve better results than training SVMs directly on top of raw pixels."
   ]
  },
  {
   "cell_type": "code",
   "execution_count": 7,
   "metadata": {
    "tags": [
     "code"
    ]
   },
   "outputs": [
    {
     "name": "stdout",
     "output_type": "stream",
     "text": [
      "iteration 0 / 3000: loss 47.832650\n",
      "iteration 100 / 3000: loss 47.449846\n",
      "iteration 200 / 3000: loss 47.076857\n",
      "iteration 300 / 3000: loss 46.686714\n",
      "iteration 400 / 3000: loss 46.317349\n",
      "iteration 500 / 3000: loss 45.933671\n",
      "iteration 600 / 3000: loss 45.575309\n",
      "iteration 700 / 3000: loss 45.220197\n",
      "iteration 800 / 3000: loss 44.843402\n",
      "iteration 900 / 3000: loss 44.491262\n",
      "iteration 1000 / 3000: loss 44.137417\n",
      "iteration 1100 / 3000: loss 43.775195\n",
      "iteration 1200 / 3000: loss 43.427387\n",
      "iteration 1300 / 3000: loss 43.099212\n",
      "iteration 1400 / 3000: loss 42.773523\n",
      "iteration 1500 / 3000: loss 42.433490\n",
      "iteration 1600 / 3000: loss 42.081343\n",
      "iteration 1700 / 3000: loss 41.758291\n",
      "iteration 1800 / 3000: loss 41.450454\n",
      "iteration 1900 / 3000: loss 41.105531\n",
      "iteration 2000 / 3000: loss 40.782331\n",
      "iteration 2100 / 3000: loss 40.475663\n",
      "iteration 2200 / 3000: loss 40.167109\n",
      "iteration 2300 / 3000: loss 39.850072\n",
      "iteration 2400 / 3000: loss 39.548585\n",
      "iteration 2500 / 3000: loss 39.242009\n",
      "iteration 2600 / 3000: loss 38.942599\n",
      "iteration 2700 / 3000: loss 38.637236\n",
      "iteration 2800 / 3000: loss 38.350992\n",
      "iteration 2900 / 3000: loss 38.054654\n",
      "iteration 0 / 3000: loss 296.690860\n",
      "iteration 100 / 3000: loss 269.310966\n",
      "iteration 200 / 3000: loss 244.540799\n",
      "iteration 300 / 3000: loss 222.109858\n",
      "iteration 400 / 3000: loss 201.836801\n",
      "iteration 500 / 3000: loss 183.481719\n",
      "iteration 600 / 3000: loss 166.872216\n",
      "iteration 700 / 3000: loss 151.845736\n",
      "iteration 800 / 3000: loss 138.250042\n",
      "iteration 900 / 3000: loss 125.942359\n",
      "iteration 1000 / 3000: loss 114.807978\n",
      "iteration 1100 / 3000: loss 104.734526\n",
      "iteration 1200 / 3000: loss 95.628555\n",
      "iteration 1300 / 3000: loss 87.383940\n",
      "iteration 1400 / 3000: loss 79.928187\n",
      "iteration 1500 / 3000: loss 73.168679\n",
      "iteration 1600 / 3000: loss 67.065957\n",
      "iteration 1700 / 3000: loss 61.538065\n",
      "iteration 1800 / 3000: loss 56.535723\n",
      "iteration 1900 / 3000: loss 52.008967\n",
      "iteration 2000 / 3000: loss 47.920452\n",
      "iteration 2100 / 3000: loss 44.208247\n",
      "iteration 2200 / 3000: loss 40.861488\n",
      "iteration 2300 / 3000: loss 37.824869\n",
      "iteration 2400 / 3000: loss 35.083734\n",
      "iteration 2500 / 3000: loss 32.598106\n",
      "iteration 2600 / 3000: loss 30.355386\n",
      "iteration 2700 / 3000: loss 28.321229\n",
      "iteration 2800 / 3000: loss 26.483100\n",
      "iteration 2900 / 3000: loss 24.817658\n",
      "iteration 0 / 3000: loss 152.129987\n",
      "iteration 100 / 3000: loss 61.520985\n",
      "iteration 200 / 3000: loss 28.273449\n",
      "iteration 300 / 3000: loss 16.072765\n",
      "iteration 400 / 3000: loss 11.595115\n",
      "iteration 500 / 3000: loss 9.952552\n",
      "iteration 600 / 3000: loss 9.349513\n",
      "iteration 700 / 3000: loss 9.128071\n",
      "iteration 800 / 3000: loss 9.047071\n",
      "iteration 900 / 3000: loss 9.017236\n",
      "iteration 1000 / 3000: loss 9.006330\n",
      "iteration 1100 / 3000: loss 9.002312\n",
      "iteration 1200 / 3000: loss 9.000834\n",
      "iteration 1300 / 3000: loss 9.000300\n",
      "iteration 1400 / 3000: loss 9.000101\n",
      "iteration 1500 / 3000: loss 9.000028\n",
      "iteration 1600 / 3000: loss 9.000001\n",
      "iteration 1700 / 3000: loss 8.999992\n",
      "iteration 1800 / 3000: loss 8.999988\n",
      "iteration 1900 / 3000: loss 8.999986\n",
      "iteration 2000 / 3000: loss 8.999987\n",
      "iteration 2100 / 3000: loss 8.999987\n",
      "iteration 2200 / 3000: loss 8.999985\n",
      "iteration 2300 / 3000: loss 8.999987\n",
      "iteration 2400 / 3000: loss 8.999988\n",
      "iteration 2500 / 3000: loss 8.999986\n",
      "iteration 2600 / 3000: loss 8.999987\n",
      "iteration 2700 / 3000: loss 8.999987\n",
      "iteration 2800 / 3000: loss 8.999985\n",
      "iteration 2900 / 3000: loss 8.999985\n",
      "iteration 0 / 3000: loss 8.999984\n",
      "iteration 100 / 3000: loss 8.999918\n",
      "iteration 200 / 3000: loss 8.999848\n",
      "iteration 300 / 3000: loss 8.999772\n",
      "iteration 400 / 3000: loss 8.999740\n",
      "iteration 500 / 3000: loss 8.999715\n",
      "iteration 600 / 3000: loss 8.999620\n",
      "iteration 700 / 3000: loss 8.999579\n",
      "iteration 800 / 3000: loss 8.999602\n",
      "iteration 900 / 3000: loss 8.999488\n",
      "iteration 1000 / 3000: loss 8.999465\n",
      "iteration 1100 / 3000: loss 8.999438\n",
      "iteration 1200 / 3000: loss 8.999332\n",
      "iteration 1300 / 3000: loss 8.999307\n",
      "iteration 1400 / 3000: loss 8.999290\n",
      "iteration 1500 / 3000: loss 8.999281\n",
      "iteration 1600 / 3000: loss 8.999243\n",
      "iteration 1700 / 3000: loss 8.999230\n",
      "iteration 1800 / 3000: loss 8.999160\n",
      "iteration 1900 / 3000: loss 8.999095\n",
      "iteration 2000 / 3000: loss 8.999026\n",
      "iteration 2100 / 3000: loss 8.999027\n",
      "iteration 2200 / 3000: loss 8.999112\n",
      "iteration 2300 / 3000: loss 8.999142\n",
      "iteration 2400 / 3000: loss 8.999129\n",
      "iteration 2500 / 3000: loss 8.998975\n",
      "iteration 2600 / 3000: loss 8.999071\n",
      "iteration 2700 / 3000: loss 8.998954\n",
      "iteration 2800 / 3000: loss 8.998911\n",
      "iteration 2900 / 3000: loss 8.998806\n",
      "iteration 0 / 3000: loss 8.998882\n",
      "iteration 100 / 3000: loss 8.999313\n",
      "iteration 200 / 3000: loss 8.999527\n",
      "iteration 300 / 3000: loss 8.999681\n",
      "iteration 400 / 3000: loss 8.999735\n",
      "iteration 500 / 3000: loss 8.999798\n",
      "iteration 600 / 3000: loss 8.999807\n",
      "iteration 700 / 3000: loss 8.999815\n",
      "iteration 800 / 3000: loss 8.999826\n",
      "iteration 900 / 3000: loss 8.999842\n",
      "iteration 1000 / 3000: loss 8.999842\n",
      "iteration 1100 / 3000: loss 8.999866\n",
      "iteration 1200 / 3000: loss 8.999841\n",
      "iteration 1300 / 3000: loss 8.999861\n",
      "iteration 1400 / 3000: loss 8.999853\n",
      "iteration 1500 / 3000: loss 8.999855\n",
      "iteration 1600 / 3000: loss 8.999863\n",
      "iteration 1700 / 3000: loss 8.999855\n",
      "iteration 1800 / 3000: loss 8.999860\n",
      "iteration 1900 / 3000: loss 8.999862\n",
      "iteration 2000 / 3000: loss 8.999842\n",
      "iteration 2100 / 3000: loss 8.999871\n",
      "iteration 2200 / 3000: loss 8.999865\n",
      "iteration 2300 / 3000: loss 8.999858\n",
      "iteration 2400 / 3000: loss 8.999868\n",
      "iteration 2500 / 3000: loss 8.999868\n",
      "iteration 2600 / 3000: loss 8.999848\n",
      "iteration 2700 / 3000: loss 8.999874\n",
      "iteration 2800 / 3000: loss 8.999853\n",
      "iteration 2900 / 3000: loss 8.999852\n",
      "iteration 0 / 3000: loss 8.999854\n",
      "iteration 100 / 3000: loss 8.999985\n",
      "iteration 200 / 3000: loss 8.999985\n",
      "iteration 300 / 3000: loss 8.999985\n",
      "iteration 400 / 3000: loss 8.999985\n",
      "iteration 500 / 3000: loss 8.999989\n",
      "iteration 600 / 3000: loss 8.999986\n",
      "iteration 700 / 3000: loss 8.999987\n",
      "iteration 800 / 3000: loss 8.999986\n",
      "iteration 900 / 3000: loss 8.999985\n",
      "iteration 1000 / 3000: loss 8.999985\n",
      "iteration 1100 / 3000: loss 8.999985\n",
      "iteration 1200 / 3000: loss 8.999985\n",
      "iteration 1300 / 3000: loss 8.999984\n",
      "iteration 1400 / 3000: loss 8.999987\n",
      "iteration 1500 / 3000: loss 8.999985\n",
      "iteration 1600 / 3000: loss 8.999984\n",
      "iteration 1700 / 3000: loss 8.999987\n",
      "iteration 1800 / 3000: loss 8.999988\n",
      "iteration 1900 / 3000: loss 8.999985\n",
      "iteration 2000 / 3000: loss 8.999986\n",
      "iteration 2100 / 3000: loss 8.999986\n",
      "iteration 2200 / 3000: loss 8.999984\n",
      "iteration 2300 / 3000: loss 8.999987\n",
      "iteration 2400 / 3000: loss 8.999985\n",
      "iteration 2500 / 3000: loss 8.999987\n",
      "iteration 2600 / 3000: loss 8.999985\n",
      "iteration 2700 / 3000: loss 8.999985\n",
      "iteration 2800 / 3000: loss 8.999986\n",
      "iteration 2900 / 3000: loss 8.999985\n",
      "iteration 0 / 3000: loss 8.999987\n",
      "iteration 100 / 3000: loss 8.999446\n",
      "iteration 200 / 3000: loss 8.999040\n",
      "iteration 300 / 3000: loss 8.998843\n",
      "iteration 400 / 3000: loss 8.998831\n",
      "iteration 500 / 3000: loss 8.998757\n",
      "iteration 600 / 3000: loss 8.998525\n",
      "iteration 700 / 3000: loss 8.998430\n",
      "iteration 800 / 3000: loss 8.998730\n",
      "iteration 900 / 3000: loss 8.998551\n",
      "iteration 1000 / 3000: loss 8.998533\n",
      "iteration 1100 / 3000: loss 8.998685\n",
      "iteration 1200 / 3000: loss 8.998438\n",
      "iteration 1300 / 3000: loss 8.998482\n",
      "iteration 1400 / 3000: loss 8.998612\n",
      "iteration 1500 / 3000: loss 8.998417\n",
      "iteration 1600 / 3000: loss 8.998645\n",
      "iteration 1700 / 3000: loss 8.998393\n",
      "iteration 1800 / 3000: loss 8.998644\n",
      "iteration 1900 / 3000: loss 8.998741\n",
      "iteration 2000 / 3000: loss 8.998420\n",
      "iteration 2100 / 3000: loss 8.998605\n",
      "iteration 2200 / 3000: loss 8.998532\n",
      "iteration 2300 / 3000: loss 8.998691\n",
      "iteration 2400 / 3000: loss 8.998604\n",
      "iteration 2500 / 3000: loss 8.998534\n",
      "iteration 2600 / 3000: loss 8.998604\n",
      "iteration 2700 / 3000: loss 8.998709\n",
      "iteration 2800 / 3000: loss 8.998646\n",
      "iteration 2900 / 3000: loss 8.998495\n",
      "iteration 0 / 3000: loss 8.998635\n",
      "iteration 100 / 3000: loss 8.999847\n",
      "iteration 200 / 3000: loss 8.999856\n",
      "iteration 300 / 3000: loss 8.999868\n",
      "iteration 400 / 3000: loss 8.999877\n",
      "iteration 500 / 3000: loss 8.999860\n",
      "iteration 600 / 3000: loss 8.999858\n",
      "iteration 700 / 3000: loss 8.999856\n",
      "iteration 800 / 3000: loss 8.999862\n",
      "iteration 900 / 3000: loss 8.999863\n",
      "iteration 1000 / 3000: loss 8.999856\n",
      "iteration 1100 / 3000: loss 8.999855\n",
      "iteration 1200 / 3000: loss 8.999864\n"
     ]
    },
    {
     "name": "stdout",
     "output_type": "stream",
     "text": [
      "iteration 1300 / 3000: loss 8.999870\n",
      "iteration 1400 / 3000: loss 8.999851\n",
      "iteration 1500 / 3000: loss 8.999863\n",
      "iteration 1600 / 3000: loss 8.999863\n",
      "iteration 1700 / 3000: loss 8.999865\n",
      "iteration 1800 / 3000: loss 8.999866\n",
      "iteration 1900 / 3000: loss 8.999854\n",
      "iteration 2000 / 3000: loss 8.999855\n",
      "iteration 2100 / 3000: loss 8.999833\n",
      "iteration 2200 / 3000: loss 8.999869\n",
      "iteration 2300 / 3000: loss 8.999853\n",
      "iteration 2400 / 3000: loss 8.999857\n",
      "iteration 2500 / 3000: loss 8.999854\n",
      "iteration 2600 / 3000: loss 8.999851\n",
      "iteration 2700 / 3000: loss 8.999865\n",
      "iteration 2800 / 3000: loss 8.999854\n",
      "iteration 2900 / 3000: loss 8.999876\n",
      "iteration 0 / 3000: loss 8.999855\n",
      "iteration 100 / 3000: loss 8.999985\n",
      "iteration 200 / 3000: loss 8.999987\n",
      "iteration 300 / 3000: loss 8.999985\n",
      "iteration 400 / 3000: loss 8.999986\n",
      "iteration 500 / 3000: loss 8.999988\n",
      "iteration 600 / 3000: loss 8.999986\n",
      "iteration 700 / 3000: loss 8.999985\n",
      "iteration 800 / 3000: loss 8.999985\n",
      "iteration 900 / 3000: loss 8.999983\n",
      "iteration 1000 / 3000: loss 8.999988\n",
      "iteration 1100 / 3000: loss 8.999986\n",
      "iteration 1200 / 3000: loss 8.999986\n",
      "iteration 1300 / 3000: loss 8.999986\n",
      "iteration 1400 / 3000: loss 8.999987\n",
      "iteration 1500 / 3000: loss 8.999986\n",
      "iteration 1600 / 3000: loss 8.999986\n",
      "iteration 1700 / 3000: loss 8.999986\n",
      "iteration 1800 / 3000: loss 8.999986\n",
      "iteration 1900 / 3000: loss 8.999986\n",
      "iteration 2000 / 3000: loss 8.999985\n",
      "iteration 2100 / 3000: loss 8.999986\n",
      "iteration 2200 / 3000: loss 8.999987\n",
      "iteration 2300 / 3000: loss 8.999986\n",
      "iteration 2400 / 3000: loss 8.999986\n",
      "iteration 2500 / 3000: loss 8.999987\n",
      "iteration 2600 / 3000: loss 8.999983\n",
      "iteration 2700 / 3000: loss 8.999987\n",
      "iteration 2800 / 3000: loss 8.999986\n",
      "iteration 2900 / 3000: loss 8.999986\n",
      "lr 1.000000e-09 reg 5.000000e+04 train accuracy: 0.099898 val accuracy: 0.112000\n",
      "lr 1.000000e-09 reg 5.000000e+05 train accuracy: 0.100959 val accuracy: 0.112000\n",
      "lr 1.000000e-09 reg 5.000000e+06 train accuracy: 0.415367 val accuracy: 0.421000\n",
      "lr 1.000000e-08 reg 5.000000e+04 train accuracy: 0.416306 val accuracy: 0.420000\n",
      "lr 1.000000e-08 reg 5.000000e+05 train accuracy: 0.415959 val accuracy: 0.425000\n",
      "lr 1.000000e-08 reg 5.000000e+06 train accuracy: 0.409102 val accuracy: 0.406000\n",
      "lr 1.000000e-07 reg 5.000000e+04 train accuracy: 0.415918 val accuracy: 0.415000\n",
      "lr 1.000000e-07 reg 5.000000e+05 train accuracy: 0.410633 val accuracy: 0.410000\n",
      "lr 1.000000e-07 reg 5.000000e+06 train accuracy: 0.386755 val accuracy: 0.375000\n",
      "best validation accuracy achieved during cross-validation: 0.425000\n"
     ]
    }
   ],
   "source": [
    "# Use the validation set to tune the learning rate and regularization strength\n",
    "\n",
    "from cs231n.classifiers.linear_classifier import LinearSVM\n",
    "\n",
    "learning_rates = [1e-9, 1e-8, 1e-7]\n",
    "regularization_strengths = [5e4, 5e5, 5e6]\n",
    "\n",
    "results = {}\n",
    "best_val = -1\n",
    "best_svm = None\n",
    "\n",
    "################################################################################\n",
    "# TODO:                                                                        #\n",
    "# Use the validation set to set the learning rate and regularization strength. #\n",
    "# This should be identical to the validation that you did for the SVM; save    #\n",
    "# the best trained classifer in best_svm. You might also want to play          #\n",
    "# with different numbers of bins in the color histogram. If you are careful    #\n",
    "# you should be able to get accuracy of near 0.44 on the validation set.       #\n",
    "################################################################################\n",
    "# *****START OF YOUR CODE (DO NOT DELETE/MODIFY THIS LINE)*****\n",
    "svm = LinearSVM()\n",
    "\n",
    "for alpha  in learning_rates:\n",
    "    for lambda_1 in regularization_strengths:\n",
    "        loss_hist = svm.train(X_train_feats, y_train, learning_rate=alpha, reg=lambda_1,\n",
    "                          num_iters=3000, verbose=True)\n",
    "        \n",
    "        y_train_pred = svm.predict(X_train_feats)\n",
    "        y_val_pred = svm.predict(X_val_feats)\n",
    "        val_acc = np.mean(y_val == y_val_pred)\n",
    "        train_acc = np.mean(y_train == y_train_pred)\n",
    "\n",
    "        results[alpha,lambda_1]= (train_acc,val_acc )\n",
    "        if val_acc> best_val:\n",
    "            best_val = val_acc\n",
    "            best_svm = svm\n",
    "\n",
    "# *****END OF YOUR CODE (DO NOT DELETE/MODIFY THIS LINE)*****\n",
    "\n",
    "# Print out results.\n",
    "for lr, reg in sorted(results):\n",
    "    train_accuracy, val_accuracy = results[(lr, reg)]\n",
    "    print('lr %e reg %e train accuracy: %f val accuracy: %f' % (\n",
    "                lr, reg, train_accuracy, val_accuracy))\n",
    "    \n",
    "print('best validation accuracy achieved during cross-validation: %f' % best_val)"
   ]
  },
  {
   "cell_type": "code",
   "execution_count": 8,
   "metadata": {
    "id": "svm_test_accuracy"
   },
   "outputs": [
    {
     "name": "stdout",
     "output_type": "stream",
     "text": [
      "0.373\n"
     ]
    }
   ],
   "source": [
    "# Evaluate your trained SVM on the test set: you should be able to get at least 0.40\n",
    "y_test_pred = best_svm.predict(X_test_feats)\n",
    "test_accuracy = np.mean(y_test == y_test_pred)\n",
    "print(test_accuracy)"
   ]
  },
  {
   "cell_type": "code",
   "execution_count": 9,
   "metadata": {},
   "outputs": [
    {
     "data": {
      "image/png": "[encoded data removed]",
      "text/plain": [
       "<Figure size 432x288 with 80 Axes>"
      ]
     },
     "metadata": {
      "needs_background": "light"
     },
     "output_type": "display_data"
    }
   ],
   "source": [
    "# An important way to gain intuition about how an algorithm works is to\n",
    "# visualize the mistakes that it makes. In this visualization, we show examples\n",
    "# of images that are misclassified by our current system. The first column\n",
    "# shows images that our system labeled as \"plane\" but whose true label is\n",
    "# something other than \"plane\".\n",
    "\n",
    "examples_per_class = 8\n",
    "classes = ['plane', 'car', 'bird', 'cat', 'deer', 'dog', 'frog', 'horse', 'ship', 'truck']\n",
    "for cls, cls_name in enumerate(classes):\n",
    "    idxs = np.where((y_test != cls) & (y_test_pred == cls))[0]\n",
    "    idxs = np.random.choice(idxs, examples_per_class, replace=False)\n",
    "    for i, idx in enumerate(idxs):\n",
    "        plt.subplot(examples_per_class, len(classes), i * len(classes) + cls + 1)\n",
    "        plt.imshow(X_test[idx].astype('uint8'))\n",
    "        plt.axis('off')\n",
    "        if i == 0:\n",
    "            plt.title(cls_name)\n",
    "plt.show()"
   ]
  },
  {
   "cell_type": "markdown",
   "metadata": {
    "tags": [
     "pdf-inline"
    ]
   },
   "source": [
    "### Inline question 1:\n",
    "Describe the misclassification results that you see. Do they make sense?\n",
    "\n",
    "\n",
    "$\\color{blue}{\\textit Your Answer:}$\n",
    "\n",
    "\n"
   ]
  },
  {
   "cell_type": "markdown",
   "metadata": {},
   "source": [
    "## Neural Network on image features\n",
    "Earlier in this assigment we saw that training a two-layer neural network on raw pixels achieved better classification performance than linear classifiers on raw pixels. In this notebook we have seen that linear classifiers on image features outperform linear classifiers on raw pixels. \n",
    "\n",
    "For completeness, we should also try training a neural network on image features. This approach should outperform all previous approaches: you should easily be able to achieve over 55% classification accuracy on the test set; our best model achieves about 60% classification accuracy."
   ]
  },
  {
   "cell_type": "code",
   "execution_count": 10,
   "metadata": {
    "tags": [
     "pdf-ignore"
    ]
   },
   "outputs": [
    {
     "name": "stdout",
     "output_type": "stream",
     "text": [
      "(49000, 155)\n",
      "(49000, 154)\n"
     ]
    }
   ],
   "source": [
    "# Preprocessing: Remove the bias dimension\n",
    "# Make sure to run this cell only ONCE\n",
    "print(X_train_feats.shape)\n",
    "X_train_feats = X_train_feats[:, :-1]\n",
    "X_val_feats = X_val_feats[:, :-1]\n",
    "X_test_feats = X_test_feats[:, :-1]\n",
    "\n",
    "print(X_train_feats.shape)"
   ]
  },
  {
   "cell_type": "code",
   "execution_count": 20,
   "metadata": {
    "tags": [
     "code"
    ]
   },
   "outputs": [
    {
     "name": "stdout",
     "output_type": "stream",
     "text": [
      "iteration 0 / 5000: loss 2.302585\n",
      "iteration 100 / 5000: loss 1.587419\n",
      "iteration 200 / 5000: loss 1.546530\n",
      "iteration 300 / 5000: loss 1.560577\n",
      "iteration 400 / 5000: loss 1.140677\n",
      "iteration 500 / 5000: loss 1.342364\n",
      "iteration 600 / 5000: loss 1.434894\n",
      "iteration 700 / 5000: loss 1.610514\n",
      "iteration 800 / 5000: loss 1.364841\n",
      "iteration 900 / 5000: loss 1.159599\n",
      "iteration 1000 / 5000: loss 1.392813\n",
      "iteration 1100 / 5000: loss 0.989570\n",
      "iteration 1200 / 5000: loss 1.226237\n",
      "iteration 1300 / 5000: loss 1.252811\n",
      "iteration 1400 / 5000: loss 1.084535\n",
      "iteration 1500 / 5000: loss 1.198893\n",
      "iteration 1600 / 5000: loss 0.960579\n",
      "iteration 1700 / 5000: loss 1.275714\n",
      "iteration 1800 / 5000: loss 1.153213\n",
      "iteration 1900 / 5000: loss 1.130334\n",
      "iteration 2000 / 5000: loss 1.169515\n",
      "iteration 2100 / 5000: loss 1.181205\n",
      "iteration 2200 / 5000: loss 1.049435\n",
      "iteration 2300 / 5000: loss 1.158748\n",
      "iteration 2400 / 5000: loss 1.194489\n",
      "iteration 2500 / 5000: loss 1.010645\n",
      "iteration 2600 / 5000: loss 0.943585\n",
      "iteration 2700 / 5000: loss 0.934983\n",
      "iteration 2800 / 5000: loss 0.950412\n",
      "iteration 2900 / 5000: loss 0.995243\n",
      "iteration 3000 / 5000: loss 0.939361\n",
      "iteration 3100 / 5000: loss 0.964330\n",
      "iteration 3200 / 5000: loss 0.939532\n",
      "iteration 3300 / 5000: loss 0.916589\n",
      "iteration 3400 / 5000: loss 0.848318\n",
      "iteration 3500 / 5000: loss 1.055578\n",
      "iteration 3600 / 5000: loss 1.228452\n",
      "iteration 3700 / 5000: loss 1.011232\n",
      "iteration 3800 / 5000: loss 1.071040\n",
      "iteration 3900 / 5000: loss 0.919448\n",
      "iteration 4000 / 5000: loss 0.948772\n",
      "iteration 4100 / 5000: loss 0.940281\n",
      "iteration 4200 / 5000: loss 1.005793\n",
      "iteration 4300 / 5000: loss 1.004998\n",
      "iteration 4400 / 5000: loss 0.854177\n",
      "iteration 4500 / 5000: loss 0.758235\n",
      "iteration 4600 / 5000: loss 0.808805\n",
      "iteration 4700 / 5000: loss 0.800667\n",
      "iteration 4800 / 5000: loss 0.829696\n",
      "iteration 4900 / 5000: loss 0.789420\n"
     ]
    }
   ],
   "source": [
    "from cs231n.classifiers.neural_net import TwoLayerNet\n",
    "\n",
    "input_dim = X_train_feats.shape[1]\n",
    "hidden_dim = 500\n",
    "num_classes = 10\n",
    "\n",
    "net = TwoLayerNet(input_dim, hidden_dim, num_classes)\n",
    "best_net = None\n",
    "best_acc = -1\n",
    "################################################################################\n",
    "# TODO: Train a two-layer neural network on image features. You may want to    #\n",
    "# cross-validate various parameters as in previous sections. Store your best   #\n",
    "# model in the best_net variable.                                              #\n",
    "################################################################################\n",
    "# *****START OF YOUR CODE (DO NOT DELETE/MODIFY THIS LINE)*****\n",
    "\n",
    "result ={}\n",
    "hidden_size = [500]\n",
    "\n",
    "learning_rate = [1]\n",
    "\n",
    "reg = [1e-4]\n",
    "\n",
    "for hs in hidden_size:\n",
    "    for lr in learning_rate:\n",
    "        for r in reg:\n",
    "            nn = TwoLayerNet(154,hs,num_classes)\n",
    "            \n",
    "            loss = nn.train(X_train_feats,y_train, X_val_feats, y_val, learning_rate=lr,reg = r,num_iters = 5000, batch_size=100,verbose=True)\n",
    "            \n",
    "            acc = loss[\"val_acc_history\"][-1]\n",
    "            result[hs,lr,r]= acc\n",
    "            if acc > best_acc:\n",
    "                best_acc = acc\n",
    "                best_net = nn\n",
    "# *****END OF YOUR CODE (DO NOT DELETE/MODIFY THIS LINE)*****\n"
   ]
  },
  {
   "cell_type": "code",
   "execution_count": 21,
   "metadata": {
    "id": "nn_test_accuracy"
   },
   "outputs": [
    {
     "name": "stdout",
     "output_type": "stream",
     "text": [
      "0.543\n"
     ]
    }
   ],
   "source": [
    "# Run your best neural net classifier on the test set. You should be able\n",
    "# to get more than 55% accuracy.\n",
    "\n",
    "test_acc = (best_net.predict(X_test_feats) == y_test).mean()\n",
    "print(test_acc)"
   ]
  },
  {
   "cell_type": "code",
   "execution_count": 22,
   "metadata": {},
   "outputs": [
    {
     "data": {
      "image/png": "[encoded data removed]",
      "text/plain": [
       "<Figure size 432x288 with 80 Axes>"
      ]
     },
     "metadata": {
      "needs_background": "light"
     },
     "output_type": "display_data"
    }
   ],
   "source": []
  },
  {
   "cell_type": "code",
   "execution_count": null,
   "metadata": {},
   "outputs": [],
   "source": []
  }
 ],
 "metadata": {
  "kernelspec": {
   "display_name": "Python 3",
   "language": "python",
   "name": "python3"
  },
  "language_info": {
   "codemirror_mode": {
    "name": "ipython",
    "version": 3
   },
   "file_extension": ".py",
   "mimetype": "text/x-python",
   "name": "python",
   "nbconvert_exporter": "python",
   "pygments_lexer": "ipython3",
   "version": "3.7.4"
  }
 },
 "nbformat": 4,
 "nbformat_minor": 1
}
